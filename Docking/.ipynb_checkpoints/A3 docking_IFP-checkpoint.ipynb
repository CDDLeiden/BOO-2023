{
 "cells": [
  {
   "cell_type": "markdown",
   "id": "f7cb9978",
   "metadata": {},
   "source": [
    "## DOCKING\n",
    "\n",
    "This jupyter notebook contains some example scripts to setup docking work for the adenosine A2B receptor.\n",
    "\n",
    "First we prep the environment"
   ]
  },
  {
   "cell_type": "code",
   "execution_count": 1,
   "id": "eec16281",
   "metadata": {},
   "outputs": [
    {
     "data": {
      "application/vnd.jupyter.widget-view+json": {
       "model_id": "db4026ef2d944dc4a0dd416960989c18",
       "version_major": 2,
       "version_minor": 0
      },
      "text/plain": []
     },
     "metadata": {},
     "output_type": "display_data"
    }
   ],
   "source": [
    "#from pymol import cmd\n",
    "import py3Dmol\n",
    "\n",
    "import pandas as pd\n",
    "import glob\n",
    "import math\n",
    "\n",
    "from vina import Vina\n",
    "\n",
    "from rdkit import Chem\n",
    "from rdkit.Chem import AllChem, Draw\n",
    "\n",
    "import MDAnalysis as mda\n",
    "from MDAnalysis.coordinates import PDB\n",
    "\n",
    "import oddt\n",
    "from oddt.fingerprints import (InteractionFingerprint,\n",
    "                               SimpleInteractionFingerprint,\n",
    "                               dice)\n",
    "\n",
    "import nglview\n",
    "from scripts import viewer\n",
    "from scripts import autodock\n",
    "from scripts import box\n",
    "\n",
    "import sys, os, shutil\n",
    "\n",
    "import warnings\n",
    "warnings.filterwarnings(\"ignore\")\n",
    "%config Completer.use_jedi = False"
   ]
  },
  {
   "cell_type": "markdown",
   "id": "c894a480",
   "metadata": {},
   "source": [
    "There will be 4 stages in this notebook:\n",
    "- 1.     protein preperation\n",
    "- 2.     ligand preperation\n",
    "- 3.     docking of a reference compound\n",
    "- 4.     docking of your own compounds"
   ]
  },
  {
   "cell_type": "markdown",
   "id": "65b33baa",
   "metadata": {},
   "source": [
    "# Stage 1\n",
    "\n",
    "We have downloaded the inactive state model of the adenosine A2B receptor from gpcrdb:\n",
    "https://gpcrdb.org/structure/homology_models/aa2br_human_inactive\n",
    "\n",
    "We furthermore aligned this model to the adenosine A2A receptor, so we can use the same grid specification that was used for the docking introduction (lab 03 from CBR teaching)."
   ]
  },
  {
   "cell_type": "code",
   "execution_count": 17,
   "id": "4338d66c",
   "metadata": {},
   "outputs": [
    {
     "name": "stdout",
     "output_type": "stream",
     "text": [
      "dir already there\n"
     ]
    }
   ],
   "source": [
    "# create a working directory\n",
    "try:\n",
    "    os.mkdir('workdir')\n",
    "except:\n",
    "    print('dir already there')"
   ]
  },
  {
   "cell_type": "code",
   "execution_count": 18,
   "id": "2c877516",
   "metadata": {},
   "outputs": [],
   "source": [
    "# Here we prepare the AF model so we can use it for docking\n",
    "\n",
    "command = 'bin/lepro data/adenosine_A3_AF_inactive.pdb'\n",
    "os.system(command)\n",
    "shutil.move('pro.pdb','workdir/adenosine_A3_AF_inactive-prepped.pdb')\n",
    "os.remove('dock.in')"
   ]
  },
  {
   "cell_type": "code",
   "execution_count": 19,
   "id": "f6fcbc1a",
   "metadata": {},
   "outputs": [],
   "source": [
    "# Write it out to pdbqt\n",
    "protein = Chem.MolFromPDBFile('workdir/adenosine_A3_AF_inactive-prepped.pdb')\n",
    "\n",
    "a = autodock.MolToPDBQTBlock(protein,flexible=False)\n",
    "with open('workdir/protein.pdbqt','w') as outfile:\n",
    "    for line in a:\n",
    "        outfile.write(line)"
   ]
  },
  {
   "cell_type": "code",
   "execution_count": 20,
   "id": "a98b527a",
   "metadata": {},
   "outputs": [],
   "source": [
    "# Get the box coordinates, we use a2a as a reference\n",
    "reflig = 'data/ligand-ZMA.pdb'\n",
    "COG    = box.COG(reflig)\n",
    "Rg     = box.Rg(reflig)"
   ]
  },
  {
   "cell_type": "markdown",
   "id": "7afbeb05",
   "metadata": {},
   "source": [
    "# Stage 2\n",
    "\n",
    "Generate 3D files of the molecules"
   ]
  },
  {
   "cell_type": "code",
   "execution_count": 21,
   "id": "ac67548a",
   "metadata": {},
   "outputs": [],
   "source": [
    "from rdkit import Chem\n",
    "from rdkit.Chem import rdDistGeom\n",
    "from rdkit.Chem import AllChem\n",
    "from rdkit.Chem import rdMolAlign\n",
    "import os"
   ]
  },
  {
   "cell_type": "code",
   "execution_count": 22,
   "id": "dc6debca",
   "metadata": {},
   "outputs": [],
   "source": [
    "# This dictionary contains ligand_name:SMILES pairs\n",
    "\n",
    "ligands = {\n",
    "    'ZMA241385' : 'C1=COC(=C1)C2=NN3C(=NC(=NC3=N2)NCCC4=CC=C(C=C4)O)N',\n",
    "    'Cafeine'   : 'CN1C=NC2=C1C(=O)N(C(=O)N2C)C'\n",
    "}"
   ]
  },
  {
   "cell_type": "code",
   "execution_count": 23,
   "id": "8793c3ca",
   "metadata": {},
   "outputs": [],
   "source": [
    "# conformer generation settings\n",
    "N_CONF = 10 # number of conformers\n",
    "CONF_OUTPUT_DIR = 'conformers'\n",
    "CONF_FILE_PREFIX = 'confs'\n",
    "PRUNE_THRS = 1.0 # determines how close the resulting conformers will be to each other\n",
    "\n",
    "# generate conformers\n",
    "def process_mol(name, smiles):\n",
    "    outfile = os.path.join(CONF_OUTPUT_DIR, f\"{CONF_FILE_PREFIX}_{name}.sdf\")\n",
    "    if os.path.exists(outfile):\n",
    "        return\n",
    "    #print(f\"Generating conformers for compound: {name}\")\n",
    "    mol = Chem.AddHs(Chem.MolFromSmiles(smiles), addCoords=True)\n",
    "    param = rdDistGeom.ETKDGv2()\n",
    "    param.pruneRmsThresh = PRUNE_THRS\n",
    "    cids = rdDistGeom.EmbedMultipleConfs(mol, N_CONF, param)\n",
    "    mp = AllChem.MMFFGetMoleculeProperties(mol, mmffVariant='MMFF94s')\n",
    "    AllChem.MMFFOptimizeMoleculeConfs(mol, numThreads=0, mmffVariant='MMFF94s')\n",
    "    os.makedirs(CONF_OUTPUT_DIR, exist_ok=True)\n",
    "\n",
    "    res = []\n",
    "    for cid in cids:\n",
    "        ff = AllChem.MMFFGetMoleculeForceField(mol, mp, confId=cid)\n",
    "        if not ff:\n",
    "            print(f\"Failed to get force field for conformer: {name}_conf{cid}\")\n",
    "            continue\n",
    "        e = ff.CalcEnergy()\n",
    "        res.append((cid, e))\n",
    "    if not res:\n",
    "        print(f\"No conformers generated for molecule: {name}\")\n",
    "        return\n",
    "    sorted_res = sorted(res, key=lambda x:x[1])\n",
    "    rdMolAlign.AlignMolConformers(mol)\n",
    "    w = Chem.SDWriter(outfile)\n",
    "    for cid, e in sorted_res:\n",
    "        mol.SetProp('_Name', f\"{name}_conf{cid}\")\n",
    "        mol.SetProp('CID', str(cid))\n",
    "        mol.SetProp('Energy', str(e))\n",
    "        w.write(mol, confId=cid)\n",
    "    w.close()\n",
    "    \n",
    "    #print(\"Done.\")\n",
    "\n",
    "for name in ligands:\n",
    "    process_mol(name, ligands[name])"
   ]
  },
  {
   "cell_type": "code",
   "execution_count": 24,
   "id": "df0e76fc",
   "metadata": {},
   "outputs": [],
   "source": [
    "# Generate conformers for each of the molecules in the smiles list\n",
    "\n",
    "from rdkit.Chem import PandasTools\n",
    "\n",
    "i = -1\n",
    "\n",
    "dfs = []\n",
    "\n",
    "for name in ligands:\n",
    "    sdfile = os.path.join(CONF_OUTPUT_DIR, f\"{CONF_FILE_PREFIX}_{name}.sdf\")\n",
    "    tmp_df = PandasTools.LoadSDF(sdfile, smilesName='SMILES', molColName='Molecule',\n",
    "                                 includeFingerprints=True, removeHs=False, strictParsing=True)    \n",
    "\n",
    "    dfs.append(tmp_df)\n",
    "\n",
    "df = pd.concat(dfs)"
   ]
  },
  {
   "cell_type": "code",
   "execution_count": 25,
   "id": "811fa60a",
   "metadata": {},
   "outputs": [
    {
     "data": {
      "image/png": "[encoded data removed]",
      "text/plain": [
       "<IPython.core.display.Image object>"
      ]
     },
     "execution_count": 25,
     "metadata": {},
     "output_type": "execute_result"
    }
   ],
   "source": [
    "# Generate 2D images of the molecules\n",
    "img=Draw.MolsToGridImage(df['Molecule'].tolist(),\n",
    "                            molsPerRow=4,\n",
    "                            subImgSize=(200,200),\n",
    "                            legends=df['ID'].tolist())\n",
    "\n",
    "for i in range(len(df)):\n",
    "    row = df.iloc[i]\n",
    "    mol = row['Molecule']\n",
    "    #name = row['ID'] + '.mol'\n",
    "    Chem.MolToMolFile(mol,name)\n",
    "\n",
    "img"
   ]
  },
  {
   "cell_type": "markdown",
   "id": "c6886ae3",
   "metadata": {},
   "source": [
    "# Stage 3\n",
    "Do the actual docking, this particular script selects a molecule in the dataframe of compounds and then starts doing the docking."
   ]
  },
  {
   "cell_type": "code",
   "execution_count": 26,
   "id": "ee298bac",
   "metadata": {},
   "outputs": [
    {
     "data": {
      "text/html": [
       "<div>\n",
       "<style scoped>\n",
       "    .dataframe tbody tr th:only-of-type {\n",
       "        vertical-align: middle;\n",
       "    }\n",
       "\n",
       "    .dataframe tbody tr th {\n",
       "        vertical-align: top;\n",
       "    }\n",
       "\n",
       "    .dataframe thead th {\n",
       "        text-align: right;\n",
       "    }\n",
       "</style>\n",
       "<table border=\"1\" class=\"dataframe\">\n",
       "  <thead>\n",
       "    <tr style=\"text-align: right;\">\n",
       "      <th></th>\n",
       "      <th>CID</th>\n",
       "      <th>Energy</th>\n",
       "      <th>ID</th>\n",
       "      <th>SMILES</th>\n",
       "      <th>Molecule</th>\n",
       "    </tr>\n",
       "  </thead>\n",
       "  <tbody>\n",
       "    <tr>\n",
       "      <th>0</th>\n",
       "      <td>3</td>\n",
       "      <td>-16.800403711300273</td>\n",
       "      <td>ZMA241385_conf3</td>\n",
       "      <td>[H]Oc1c([H])c([H])c(C([H])([H])C([H])([H])N([H...</td>\n",
       "      <td>&lt;rdkit.Chem.rdchem.Mol object at 0x7fc67c3297b0&gt;</td>\n",
       "    </tr>\n",
       "    <tr>\n",
       "      <th>1</th>\n",
       "      <td>1</td>\n",
       "      <td>-15.94154777738174</td>\n",
       "      <td>ZMA241385_conf1</td>\n",
       "      <td>[H]Oc1c([H])c([H])c(C([H])([H])C([H])([H])N([H...</td>\n",
       "      <td>&lt;rdkit.Chem.rdchem.Mol object at 0x7fc67c171c10&gt;</td>\n",
       "    </tr>\n",
       "    <tr>\n",
       "      <th>2</th>\n",
       "      <td>2</td>\n",
       "      <td>-15.743627141265822</td>\n",
       "      <td>ZMA241385_conf2</td>\n",
       "      <td>[H]Oc1c([H])c([H])c(C([H])([H])C([H])([H])N([H...</td>\n",
       "      <td>&lt;rdkit.Chem.rdchem.Mol object at 0x7fc67c171e40&gt;</td>\n",
       "    </tr>\n",
       "    <tr>\n",
       "      <th>3</th>\n",
       "      <td>0</td>\n",
       "      <td>-14.89775872003716</td>\n",
       "      <td>ZMA241385_conf0</td>\n",
       "      <td>[H]Oc1c([H])c([H])c(C([H])([H])C([H])([H])N([H...</td>\n",
       "      <td>&lt;rdkit.Chem.rdchem.Mol object at 0x7fc67c171dd0&gt;</td>\n",
       "    </tr>\n",
       "    <tr>\n",
       "      <th>0</th>\n",
       "      <td>0</td>\n",
       "      <td>-123.49372718344381</td>\n",
       "      <td>Cafeine_conf0</td>\n",
       "      <td>[H]c1nc2c(c(=O)n(C([H])([H])[H])c(=O)n2C([H])(...</td>\n",
       "      <td>&lt;rdkit.Chem.rdchem.Mol object at 0x7fc67c329a50&gt;</td>\n",
       "    </tr>\n",
       "  </tbody>\n",
       "</table>\n",
       "</div>"
      ],
      "text/plain": [
       "  CID               Energy               ID  \\\n",
       "0   3  -16.800403711300273  ZMA241385_conf3   \n",
       "1   1   -15.94154777738174  ZMA241385_conf1   \n",
       "2   2  -15.743627141265822  ZMA241385_conf2   \n",
       "3   0   -14.89775872003716  ZMA241385_conf0   \n",
       "0   0  -123.49372718344381    Cafeine_conf0   \n",
       "\n",
       "                                              SMILES  \\\n",
       "0  [H]Oc1c([H])c([H])c(C([H])([H])C([H])([H])N([H...   \n",
       "1  [H]Oc1c([H])c([H])c(C([H])([H])C([H])([H])N([H...   \n",
       "2  [H]Oc1c([H])c([H])c(C([H])([H])C([H])([H])N([H...   \n",
       "3  [H]Oc1c([H])c([H])c(C([H])([H])C([H])([H])N([H...   \n",
       "0  [H]c1nc2c(c(=O)n(C([H])([H])[H])c(=O)n2C([H])(...   \n",
       "\n",
       "                                           Molecule  \n",
       "0  <rdkit.Chem.rdchem.Mol object at 0x7fc67c3297b0>  \n",
       "1  <rdkit.Chem.rdchem.Mol object at 0x7fc67c171c10>  \n",
       "2  <rdkit.Chem.rdchem.Mol object at 0x7fc67c171e40>  \n",
       "3  <rdkit.Chem.rdchem.Mol object at 0x7fc67c171dd0>  \n",
       "0  <rdkit.Chem.rdchem.Mol object at 0x7fc67c329a50>  "
      ]
     },
     "execution_count": 26,
     "metadata": {},
     "output_type": "execute_result"
    }
   ],
   "source": [
    "df"
   ]
  },
  {
   "cell_type": "code",
   "execution_count": 27,
   "id": "61c39d0a",
   "metadata": {},
   "outputs": [],
   "source": [
    "# You can change the ligand name for each of the generated molecules from your smiles:\n",
    "# So, ligand_00 (Should be the reference ligand from the crystal structure)\n",
    "# Then, ligand_01, ligand_02, ... etc.\n",
    "# Run one ligand at the time!\n",
    "\n",
    "ligname = 'ZMA241385'   # add base name of compound here\n",
    "conf = 'conf0'          # indicate conformation here\n",
    "\n",
    "molname = ligname + '_' + conf\n",
    "\n",
    "directory_path = 'workdir/'+molname+'/'\n",
    "if not os.path.exists(directory_path):\n",
    "    os.makedirs(directory_path)\n",
    "\n",
    "molrow = df.loc[df['ID'] == molname]#['Molecule']\n",
    "m = molrow.iloc[0]['Molecule']\n",
    "\n",
    "a = autodock.MolToPDBQTBlock(m)\n",
    "#print(a)\n",
    "with open(directory_path+'{}.pdbqt'.format(molname), 'w') as outfile:\n",
    "    for line in a:\n",
    "        outfile.write(line)"
   ]
  },
  {
   "cell_type": "code",
   "execution_count": 29,
   "id": "145d3969",
   "metadata": {},
   "outputs": [
    {
     "name": "stdout",
     "output_type": "stream",
     "text": [
      "\n",
      "mode |   affinity | dist from best mode\n",
      "     | (kcal/mol) | rmsd l.b.| rmsd u.b.\n",
      "-----+------------+----------+----------\n",
      "   1       -6.876          0          0\n",
      "   2       -4.612      2.147       8.68\n",
      "   3        -3.59      2.712      4.604\n",
      "   4       -1.847      6.562      9.761\n",
      "   5       -1.505      5.815      8.839\n",
      "   6       -1.477      2.926      8.554\n",
      "   7       0.2907      4.716      6.576\n",
      "   8       0.3225       1.76       7.97\n",
      "   9       0.9756      3.665      7.986\n",
      "  10        1.167      4.916      8.599\n",
      "Computing Vina grid ... done.\n",
      "Performing docking (random seed: -1873348454) ... \n",
      "0%   10   20   30   40   50   60   70   80   90   100%\n",
      "|----|----|----|----|----|----|----|----|----|----|\n",
      "***************************************************\n"
     ]
    }
   ],
   "source": [
    "v = Vina(sf_name='vina')\n",
    "\n",
    "v.set_receptor('workdir/protein.pdbqt')\n",
    "\n",
    "v.set_ligand_from_file(directory_path+'{}.pdbqt'.format(molname))\n",
    "\n",
    "center = {\n",
    "     'center_x' : COG[0], \n",
    "     'center_y' : COG[1], \n",
    "     'center_z' : COG[2]\n",
    "     \n",
    "}\n",
    "\n",
    "size = { \n",
    "    'size_x' : Rg * 2.9 ,\n",
    "    'size_y' : Rg * 2.9,\n",
    "    'size_z' : Rg * 2.9,           \n",
    "           }\n",
    " \n",
    "\n",
    "v.compute_vina_maps(center=[center['center_x'], center['center_y'], center['center_z']], \n",
    "                    box_size=[size['size_x'], size['size_y'], size['size_z']])\n",
    "\n",
    "'''\n",
    "# Score the current pose\n",
    "energy = v.score()\n",
    "print('Score before minimization: %.3f (kcal/mol)' % energy[0])\n",
    "\n",
    "# Minimized locally the current pose\n",
    "energy_minimized = v.optimize()\n",
    "print('Score after minimization : %.3f (kcal/mol)' % energy_minimized[0])\n",
    "v.write_pose('1iep_ligand_minimized.pdbqt', overwrite=True)\n",
    "'''\n",
    "\n",
    "# Dock the ligand\n",
    "v.dock(exhaustiveness=10, n_poses=10)\n",
    "v.write_poses(directory_path+'docking_results.pdbqt', n_poses=10, overwrite=True)"
   ]
  },
  {
   "cell_type": "markdown",
   "id": "f943dac5",
   "metadata": {},
   "source": [
    "# Stage 4\n",
    "Retrieve IFPs from docking poses."
   ]
  },
  {
   "cell_type": "code",
   "execution_count": 14,
   "id": "ccb04873",
   "metadata": {},
   "outputs": [
    {
     "name": "stdout",
     "output_type": "stream",
     "text": [
      "Saved model 1 to workdir/ZMA241385_conf0/docking_results_1.pdbqt\n",
      "Saved model 2 to workdir/ZMA241385_conf0/docking_results_2.pdbqt\n",
      "Saved model 3 to workdir/ZMA241385_conf0/docking_results_3.pdbqt\n"
     ]
    }
   ],
   "source": [
    "with open(directory_path+'docking_results.pdbqt', 'r') as file:\n",
    "    content = file.read()\n",
    "\n",
    "models = content.split('MODEL ')\n",
    "for model in models[1:]:\n",
    "    lines = model.split('\\n')\n",
    "    model_number = lines[0].strip()\n",
    "    model_content = '\\n'.join(lines[1:])\n",
    "    model_content = model_content.strip()\n",
    "\n",
    "    output_file_path = f'{directory_path}docking_results_{model_number}.pdbqt'\n",
    "    with open(output_file_path, 'w') as output_file:\n",
    "        output_file.write('MODEL '+str(model_number)+'\\n')\n",
    "        output_file.write(model_content+'\\n')\n",
    "\n",
    "    print(f'Saved model {model_number} to {output_file_path}')"
   ]
  },
  {
   "cell_type": "code",
   "execution_count": 15,
   "id": "914c5977",
   "metadata": {},
   "outputs": [
    {
     "name": "stdout",
     "output_type": "stream",
     "text": [
      "Processing file: workdir/ZMA241385_conf0/docking_results_1.pdbqt\n",
      "Processing file: workdir/ZMA241385_conf0/docking_results_2.pdbqt\n",
      "Processing file: workdir/ZMA241385_conf0/docking_results_3.pdbqt\n"
     ]
    },
    {
     "name": "stderr",
     "output_type": "stream",
     "text": [
      "[14:31:02] WARNING: More than one matching pattern found - picking one\n",
      "\n",
      "[14:31:02] WARNING: More than one matching pattern found - picking one\n",
      "\n",
      "[14:31:02] WARNING: More than one matching pattern found - picking one\n",
      "\n"
     ]
    }
   ],
   "source": [
    "# process multiple poses for a ligand at once\n",
    "\n",
    "for filename in os.listdir(directory_path):\n",
    "    if filename.startswith('docking_results_'):\n",
    "        file_path = os.path.join(directory_path, filename)\n",
    "        mol_nr = filename.rsplit('_', 1)[1]\n",
    "        mol_nr = os.path.splitext(mol_nr)[0]\n",
    "        print(f\"Processing file: {file_path}\")\n",
    "        \n",
    "        mol = autodock.MolFromPDBQTBlock(file_path,sanitize=False)\n",
    "\n",
    "        #load original molecule from smiles\n",
    "        SMILES_STRING = ligands[ligname] #the original SMILES string of your ligand\n",
    "        template = Chem.MolFromSmiles(SMILES_STRING)\n",
    "\n",
    "        #Assign the bond order to force correct valence\n",
    "        newMol = AllChem.AssignBondOrdersFromTemplate(template, mol)\n",
    "        #Add Hydrogens if desired. \"addCoords = True\" makes sure the hydrogens are added in 3D. This does not take pH/pKa into account. \n",
    "        newMol_H = Chem.AddHs(newMol, addCoords=True)\n",
    "        #save your new correct molecule as a sdf file that encodes for bond orders correctly\n",
    "        output_file_path = f'{directory_path}docked_pose_assigned_bond_order_{mol_nr}.sdf'\n",
    "\n",
    "        Chem.MolToMolFile(newMol_H, output_file_path)"
   ]
  },
  {
   "cell_type": "code",
   "execution_count": 16,
   "id": "3acd5e43",
   "metadata": {},
   "outputs": [],
   "source": [
    "# helper function to split fingerprints in per residue lists\n",
    "\n",
    "def split(list_a, chunk_size=8):\n",
    "    for i in range(0, len(list_a), chunk_size):\n",
    "        yield list_a[i:i + chunk_size]"
   ]
  },
  {
   "cell_type": "code",
   "execution_count": 82,
   "id": "efc4bc26",
   "metadata": {},
   "outputs": [
    {
     "name": "stdout",
     "output_type": "stream",
     "text": [
      "Generating IFPs\n",
      "[10  0  0  0  0  0  0  0]\n",
      "[0 0 0 0 0 0 0 0]\n",
      "Generating IFPs\n",
      "[10  0  0  0  0  0  0  0]\n",
      "[0 0 0 0 0 0 0 0]\n",
      "Generating IFPs\n",
      "[1 0 0 0 0 0 0 0]\n",
      "[0 0 0 0 0 0 0 0]\n"
     ]
    }
   ],
   "source": [
    "# residues of interest for interaction\n",
    "\n",
    "resnrs = {\n",
    "173: 'Phe',\n",
    "254: 'Asn',\n",
    "}\n",
    "\n",
    "protein = next(oddt.toolkit.readfile('pdb', 'data/A2b_AF_GPCRdb.pdb'))\n",
    "#protein = autodock.MolFromPDBQTBlock('workdir/protein.pdbqt',sanitize=False)\n",
    "protein.protein = True\n",
    "\n",
    "# this block will load all sdfs\n",
    "for filename in os.listdir(directory_path):\n",
    "    if filename.startswith('docked_pose_assigned_bond_order_'):\n",
    "        file_path = os.path.join(directory_path, filename)\n",
    "        mol_nr = filename.rsplit('_', 1)[1]\n",
    "        mol_nr = os.path.splitext(mol_nr)[0]        \n",
    "        \n",
    "        mols = list(oddt.toolkit.readfile('sdf', file_path))\n",
    "\n",
    "        #    - (Column 0) hydrophobic contacts\n",
    "        #    - (Column 1) aromatic face to face\n",
    "        #    - (Column 2) aromatic edge to face\n",
    "        #    - (Column 3) hydrogen bond (protein as hydrogen bond donor)\n",
    "        #    - (Column 4) hydrogen bond (protein as hydrogen bond acceptor)\n",
    "        #    - (Column 5) salt bridges (protein positively charged)\n",
    "        #    - (Column 6) salt bridges (protein negatively charged)\n",
    "        #    - (Column 7) salt bridges (ionic bond with metal ion)\n",
    "        print(\"Generating IFPs for pose {}\".format(mol_nr))\n",
    "\n",
    "        with open(directory_path+'docked_mols_IFP'+str(mol_nr)+'.sdf', 'w') as outfile:\n",
    "            for mol in mols:\n",
    "                molstring = oddt.toolkits.rdk.Molecule(mol).write(format='sdf')\n",
    "                #for key, value in mol.data.to_dict().items():\n",
    "                #    molstring = molstring + '\\n> <{}>\\n{}\\n'.format(key, value)\n",
    "\n",
    "                IFP = oddt.fingerprints.InteractionFingerprint(mol, protein, strict=False)\n",
    "\n",
    "                for resnr, resname in resnrs.items():        \n",
    "                    srt = (resnr-1) * 8\n",
    "                    end = (srt+9)\n",
    "                    fp = list(split(IFP, chunk_size=8))[resnr-1]\n",
    "                    print(fp)\n",
    "\n",
    "                    # format residue properties\n",
    "                    molstring = molstring + '\\n> <{}{}_donor>\\n{}\\n'.format(resname,resnr,fp[3])\n",
    "                    molstring = molstring + '\\n> <{}{}_acceptor>\\n{}\\n'.format(resname,resnr,fp[4])\n",
    "\n",
    "                molstring = molstring + '\\n$$$$\\n'\n",
    "                outfile.write(molstring)"
   ]
  },
  {
   "cell_type": "code",
   "execution_count": 61,
   "id": "426ba8b8",
   "metadata": {},
   "outputs": [
    {
     "name": "stdout",
     "output_type": "stream",
     "text": [
      "The affinity predicted by Vina = -8.932 (kcal/mol)\n",
      "Which (approximately) corresponds to a pChEMBL of 6.55\n"
     ]
    }
   ],
   "source": [
    "# Create a mol object from the docking results, write the mol to file and print the predicted affinity\n",
    "\n",
    "for filename in os.listdir(directory_path):\n",
    "    if filename.startswith('docking_results_'):\n",
    "        file_path = os.path.join(directory_path, filename)\n",
    "        mol_nr = filename.rsplit('_', 1)[1]\n",
    "        mol_nr = os.path.splitext(mol_nr)[0]\n",
    "\n",
    "        mol = autodock.MolFromPDBQTBlock(file_path,sanitize=False)\n",
    "        Chem.rdmolfiles.MolToPDBFile(mol, directory_path+'docked_'+mol_nr+'.pdb')\n",
    "        Ki = (math.exp(float(mol.GetProp('vina_affinity'))/0.592))\n",
    "        pKi = -math.log10(Ki)\n",
    "        pChEMBL = pKi\n",
    "        print('The affinity predicted by Vina = {} (kcal/mol)'.format(mol.GetProp('vina_affinity')))\n",
    "        print('Which (approximately) corresponds to a pChEMBL of {:.2f}'.format(pKi))"
   ]
  },
  {
   "cell_type": "code",
   "execution_count": 62,
   "id": "5776e99e",
   "metadata": {},
   "outputs": [],
   "source": [
    "# Merge the pdb files for visualisation in PLIP\n",
    "# https://plip-tool.biotec.tu-dresden.de/plip-web/plip/index\n",
    "\n",
    "for filename in os.listdir(directory_path):\n",
    "    if filename.startswith('docked_'):\n",
    "        file_path = os.path.join(directory_path, filename)\n",
    "        mol_nr = filename.rsplit('_', 1)[1]\n",
    "        mol_nr = os.path.splitext(mol_nr)[0]\n",
    "\n",
    "        # Open the file that will contain all data\n",
    "        with open (directory_path+'A2b_AF_GPCRdb-prepped_'+molname+'_'+mol_nr+'-complex.pdb', 'w') as outfile:\n",
    "\n",
    "            # Reading data from file1\n",
    "            with open('workdir/A2b_AF_GPCRdb-prepped.pdb') as fp:\n",
    "                for line in fp:\n",
    "                    if 'END' in line:\n",
    "                        continue\n",
    "                    \n",
    "                    else:\n",
    "                        line = line.replace('CYX','CYS')\n",
    "                        line = line.replace('HSD','HIS')\n",
    "                        line = line.replace('HSE','HIS')\n",
    "                        outfile.write(line)\n",
    "\n",
    "            # Reading data from file2\n",
    "            with open(file_path) as fp:\n",
    "                for line in fp:\n",
    "                    if 'COMPND' in line:\n",
    "                        continue\n",
    "                        \n",
    "                    else:\n",
    "                        outfile.write(line)"
   ]
  },
  {
   "cell_type": "code",
   "execution_count": null,
   "id": "afc91b2f",
   "metadata": {},
   "outputs": [],
   "source": []
  }
 ],
 "metadata": {
  "kernelspec": {
   "display_name": "Python 3 (ipykernel)",
   "language": "python",
   "name": "python3"
  },
  "language_info": {
   "codemirror_mode": {
    "name": "ipython",
    "version": 3
   },
   "file_extension": ".py",
   "mimetype": "text/x-python",
   "name": "python",
   "nbconvert_exporter": "python",
   "pygments_lexer": "ipython3",
   "version": "3.9.13"
  }
 },
 "nbformat": 4,
 "nbformat_minor": 5
}
