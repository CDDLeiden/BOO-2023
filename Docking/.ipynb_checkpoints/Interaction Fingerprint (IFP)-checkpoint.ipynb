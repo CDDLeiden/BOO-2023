{
 "cells": [
  {
   "cell_type": "markdown",
   "id": "41229b20",
   "metadata": {},
   "source": [
    "In this notebook, we will generate IFPs for all the docked compounds from the previous step. We will first generate the full interaction fingerprint bit vector, after which we will start filtering compounds and writing them out in a new file."
   ]
  },
  {
   "cell_type": "code",
   "execution_count": 2,
   "id": "05504451",
   "metadata": {},
   "outputs": [
    {
     "name": "stdout",
     "output_type": "stream",
     "text": [
      "Collecting oddt\n",
      "  Using cached oddt-0.7-py2.py3-none-any.whl\n",
      "Requirement already satisfied: scipy>=0.17 in /opt/conda/lib/python3.9/site-packages (from oddt) (1.7.3)\n",
      "Collecting numpydoc\n",
      "  Using cached numpydoc-1.5.0-py3-none-any.whl (52 kB)\n",
      "Requirement already satisfied: six in /opt/conda/lib/python3.9/site-packages (from oddt) (1.16.0)\n",
      "Requirement already satisfied: numpy>=1.11 in /opt/conda/lib/python3.9/site-packages (from oddt) (1.22.1)\n",
      "Requirement already satisfied: scikit-learn>=0.18 in /opt/conda/lib/python3.9/site-packages (from oddt) (1.1.1)\n",
      "Requirement already satisfied: pandas>=0.19.2 in /opt/conda/lib/python3.9/site-packages (from oddt) (1.4.2)\n",
      "Requirement already satisfied: joblib>=0.9.4 in /opt/conda/lib/python3.9/site-packages (from oddt) (1.2.0)\n",
      "Requirement already satisfied: python-dateutil>=2.8.1 in /opt/conda/lib/python3.9/site-packages (from pandas>=0.19.2->oddt) (2.8.2)\n",
      "Requirement already satisfied: pytz>=2020.1 in /opt/conda/lib/python3.9/site-packages (from pandas>=0.19.2->oddt) (2022.1)\n",
      "Requirement already satisfied: threadpoolctl>=2.0.0 in /opt/conda/lib/python3.9/site-packages (from scikit-learn>=0.18->oddt) (3.1.0)\n",
      "Requirement already satisfied: Jinja2>=2.10 in /opt/conda/lib/python3.9/site-packages (from numpydoc->oddt) (3.1.1)\n",
      "Collecting sphinx>=4.2\n",
      "  Using cached sphinx-7.0.1-py3-none-any.whl (3.0 MB)\n",
      "Requirement already satisfied: MarkupSafe>=2.0 in /opt/conda/lib/python3.9/site-packages (from Jinja2>=2.10->numpydoc->oddt) (2.1.1)\n",
      "Collecting snowballstemmer>=2.0\n",
      "  Using cached snowballstemmer-2.2.0-py2.py3-none-any.whl (93 kB)\n",
      "Collecting docutils<0.21,>=0.18.1\n",
      "  Using cached docutils-0.20.1-py3-none-any.whl (572 kB)\n",
      "Collecting sphinxcontrib-applehelp\n",
      "  Using cached sphinxcontrib_applehelp-1.0.4-py3-none-any.whl (120 kB)\n",
      "Requirement already satisfied: packaging>=21.0 in /opt/conda/lib/python3.9/site-packages (from sphinx>=4.2->numpydoc->oddt) (21.3)\n",
      "Requirement already satisfied: babel>=2.9 in /opt/conda/lib/python3.9/site-packages (from sphinx>=4.2->numpydoc->oddt) (2.9.1)\n",
      "Collecting alabaster<0.8,>=0.7\n",
      "  Using cached alabaster-0.7.13-py3-none-any.whl (13 kB)\n",
      "Requirement already satisfied: requests>=2.25.0 in /opt/conda/lib/python3.9/site-packages (from sphinx>=4.2->numpydoc->oddt) (2.27.1)\n",
      "Requirement already satisfied: importlib-metadata>=4.8 in /opt/conda/lib/python3.9/site-packages (from sphinx>=4.2->numpydoc->oddt) (4.11.3)\n",
      "Collecting sphinxcontrib-serializinghtml>=1.1.5\n",
      "  Using cached sphinxcontrib_serializinghtml-1.1.5-py2.py3-none-any.whl (94 kB)\n",
      "Collecting sphinxcontrib-qthelp\n",
      "  Using cached sphinxcontrib_qthelp-1.0.3-py2.py3-none-any.whl (90 kB)\n",
      "Collecting sphinxcontrib-devhelp\n",
      "  Using cached sphinxcontrib_devhelp-1.0.2-py2.py3-none-any.whl (84 kB)\n",
      "Collecting sphinxcontrib-jsmath\n",
      "  Using cached sphinxcontrib_jsmath-1.0.1-py2.py3-none-any.whl (5.1 kB)\n",
      "Collecting sphinxcontrib-htmlhelp>=2.0.0\n",
      "  Using cached sphinxcontrib_htmlhelp-2.0.1-py3-none-any.whl (99 kB)\n",
      "Collecting Pygments>=2.13\n",
      "  Using cached Pygments-2.15.1-py3-none-any.whl (1.1 MB)\n",
      "Collecting imagesize>=1.3\n",
      "  Using cached imagesize-1.4.1-py2.py3-none-any.whl (8.8 kB)\n",
      "Requirement already satisfied: zipp>=0.5 in /opt/conda/lib/python3.9/site-packages (from importlib-metadata>=4.8->sphinx>=4.2->numpydoc->oddt) (3.8.0)\n",
      "Requirement already satisfied: pyparsing!=3.0.5,>=2.0.2 in /opt/conda/lib/python3.9/site-packages (from packaging>=21.0->sphinx>=4.2->numpydoc->oddt) (3.0.8)\n",
      "Requirement already satisfied: charset-normalizer~=2.0.0 in /opt/conda/lib/python3.9/site-packages (from requests>=2.25.0->sphinx>=4.2->numpydoc->oddt) (2.0.12)\n",
      "Requirement already satisfied: idna<4,>=2.5 in /opt/conda/lib/python3.9/site-packages (from requests>=2.25.0->sphinx>=4.2->numpydoc->oddt) (3.3)\n",
      "Requirement already satisfied: urllib3<1.27,>=1.21.1 in /opt/conda/lib/python3.9/site-packages (from requests>=2.25.0->sphinx>=4.2->numpydoc->oddt) (1.26.9)\n",
      "Requirement already satisfied: certifi>=2017.4.17 in /opt/conda/lib/python3.9/site-packages (from requests>=2.25.0->sphinx>=4.2->numpydoc->oddt) (2022.9.24)\n",
      "Installing collected packages: snowballstemmer, sphinxcontrib-serializinghtml, sphinxcontrib-qthelp, sphinxcontrib-jsmath, sphinxcontrib-htmlhelp, sphinxcontrib-devhelp, sphinxcontrib-applehelp, Pygments, imagesize, docutils, alabaster, sphinx, numpydoc, oddt\n",
      "  Attempting uninstall: Pygments\n",
      "    Found existing installation: Pygments 2.12.0\n",
      "    Uninstalling Pygments-2.12.0:\n",
      "      Successfully uninstalled Pygments-2.12.0\n",
      "Successfully installed Pygments-2.15.1 alabaster-0.7.13 docutils-0.20.1 imagesize-1.4.1 numpydoc-1.5.0 oddt-0.7 snowballstemmer-2.2.0 sphinx-7.0.1 sphinxcontrib-applehelp-1.0.4 sphinxcontrib-devhelp-1.0.2 sphinxcontrib-htmlhelp-2.0.1 sphinxcontrib-jsmath-1.0.1 sphinxcontrib-qthelp-1.0.3 sphinxcontrib-serializinghtml-1.1.5\n"
     ]
    }
   ],
   "source": [
    "!pip install oddt"
   ]
  },
  {
   "cell_type": "code",
   "execution_count": 25,
   "id": "fffb662b",
   "metadata": {},
   "outputs": [],
   "source": [
    "import oddt\n",
    "from oddt.fingerprints import (InteractionFingerprint,\n",
    "                               SimpleInteractionFingerprint,\n",
    "                               dice)\n",
    "from scripts import autodock\n",
    "from rdkit import Chem"
   ]
  },
  {
   "cell_type": "code",
   "execution_count": 26,
   "id": "5c8208b3",
   "metadata": {},
   "outputs": [],
   "source": [
    "mol = autodock.MolFromPDBQTBlock('workdir/docking_results.pdbqt',sanitize=False)\n",
    "mols = [mol]\n",
    "writer = Chem.rdmolfiles.SDWriter('out.sdf')\n",
    "for mol in mols:\n",
    "    writer.write(mol)"
   ]
  },
  {
   "cell_type": "code",
   "execution_count": null,
   "id": "72734171",
   "metadata": {},
   "outputs": [],
   "source": [
    "def split(list_a, chunk_size):\n",
    "\n",
    "    for i in range(0, len(list_a), chunk_size):\n",
    "        yield list_a[i:i + chunk_size]\n",
    "\n",
    "chunk_size = 8\n",
    "\n",
    "\n",
    "#143, # Trp\n",
    "#147, # Phe\n",
    "\n",
    "resnrs = {\n",
    "173: 'Phe',\n",
    "254: 'Asn',\n",
    "}\n",
    "\n",
    "protein = next(oddt.toolkit.readfile('pdb', 'data/A2b_AF_GPCRdb.pdb'))\n",
    "#protein = autodock.MolFromPDBQTBlock('workdir/protein.pdbqt',sanitize=False)\n",
    "protein.protein = True\n",
    "\n",
    "# this block will load all sdfs\n",
    "mols = list(oddt.toolkit.readfile('sdf', 'out.sdf'))\n",
    "\n",
    "#mols = list(oddt.toolkit.readfile('sdf', 'step01_10k_clustered_pocketC.sdf'))\n",
    "\n",
    "#    - (Column 0) hydrophobic contacts\n",
    "#    - (Column 1) aromatic face to face\n",
    "#    - (Column 2) aromatic edge to face\n",
    "#    - (Column 3) hydrogen bond (protein as hydrogen bond donor)\n",
    "#    - (Column 4) hydrogen bond (protein as hydrogen bond acceptor)\n",
    "#    - (Column 5) salt bridges (protein positively charged)\n",
    "#    - (Column 6) salt bridges (protein negatively charged)\n",
    "#    - (Column 7) salt bridges (ionic bond with metal ion)\n",
    "print(\"Generating IFPs\")\n",
    "\n",
    "with open('workdir/docked_mols_IFP.sdf', 'w') as outfile:\n",
    "    for mol in mols:\n",
    "        molstring = (oddt.toolkits.rdk.Molecule(mol).write(format='sdf'))\n",
    "        #for key, value in mol.data.to_dict().items():\n",
    "        #    molstring = molstring + '\\n> <{}>\\n{}\\n'.format(key, value)\n",
    "\n",
    "        IFP = oddt.fingerprints.InteractionFingerprint(mol, protein, strict=True)\n",
    "        \n",
    "        for resnr, resname in resnrs.items():        \n",
    "            srt = (resnr-1) * 8\n",
    "            end = (srt+9)\n",
    "            fp = list(split(IFP, chunk_size))[resnr-1]\n",
    "            print(fp)\n",
    "\n",
    "            # format residue properties\n",
    "            molstring = molstring + '\\n> <{}{}_donor>\\n{}\\n'.format(resname,resnr,fp[3])\n",
    "            molstring = molstring + '\\n> <{}{}_acceptor>\\n{}\\n'.format(resname,resnr,fp[4])\n",
    "\n",
    "        molstring = molstring + '\\n$$$$\\n'\n",
    "        outfile.write(molstring)"
   ]
  },
  {
   "cell_type": "code",
   "execution_count": null,
   "id": "7020760f",
   "metadata": {},
   "outputs": [],
   "source": []
  }
 ],
 "metadata": {
  "kernelspec": {
   "display_name": "Python 3 (ipykernel)",
   "language": "python",
   "name": "python3"
  },
  "language_info": {
   "codemirror_mode": {
    "name": "ipython",
    "version": 3
   },
   "file_extension": ".py",
   "mimetype": "text/x-python",
   "name": "python",
   "nbconvert_exporter": "python",
   "pygments_lexer": "ipython3",
   "version": "3.9.12"
  }
 },
 "nbformat": 4,
 "nbformat_minor": 5
}
