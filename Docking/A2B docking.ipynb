{
 "cells": [
  {
   "cell_type": "markdown",
   "id": "598ae334",
   "metadata": {},
   "source": [
    "## DOCKING\n",
    "\n",
    "This jupyter notebook contains some example scripts to setup docking work for the adenosine A2B receptor.\n",
    "\n",
    "First we prep the environment"
   ]
  },
  {
   "cell_type": "code",
   "execution_count": 4,
   "id": "289e0ebe",
   "metadata": {},
   "outputs": [
    {
     "name": "stdout",
     "output_type": "stream",
     "text": [
      "Requirement already satisfied: oddt in /opt/conda/lib/python3.9/site-packages (0.7)\n",
      "Requirement already satisfied: numpydoc in /opt/conda/lib/python3.9/site-packages (from oddt) (1.5.0)\n",
      "Requirement already satisfied: scikit-learn>=0.18 in /opt/conda/lib/python3.9/site-packages (from oddt) (1.1.1)\n",
      "Requirement already satisfied: six in /opt/conda/lib/python3.9/site-packages (from oddt) (1.16.0)\n",
      "Requirement already satisfied: numpy>=1.11 in /opt/conda/lib/python3.9/site-packages (from oddt) (1.22.1)\n",
      "Requirement already satisfied: pandas>=0.19.2 in /opt/conda/lib/python3.9/site-packages (from oddt) (1.4.2)\n",
      "Requirement already satisfied: scipy>=0.17 in /opt/conda/lib/python3.9/site-packages (from oddt) (1.7.3)\n",
      "Requirement already satisfied: joblib>=0.9.4 in /opt/conda/lib/python3.9/site-packages (from oddt) (1.2.0)\n",
      "Requirement already satisfied: python-dateutil>=2.8.1 in /opt/conda/lib/python3.9/site-packages (from pandas>=0.19.2->oddt) (2.8.2)\n",
      "Requirement already satisfied: pytz>=2020.1 in /opt/conda/lib/python3.9/site-packages (from pandas>=0.19.2->oddt) (2022.1)\n",
      "Requirement already satisfied: threadpoolctl>=2.0.0 in /opt/conda/lib/python3.9/site-packages (from scikit-learn>=0.18->oddt) (3.1.0)\n",
      "Requirement already satisfied: Jinja2>=2.10 in /opt/conda/lib/python3.9/site-packages (from numpydoc->oddt) (3.1.1)\n",
      "Requirement already satisfied: sphinx>=4.2 in /opt/conda/lib/python3.9/site-packages (from numpydoc->oddt) (7.0.1)\n",
      "Requirement already satisfied: MarkupSafe>=2.0 in /opt/conda/lib/python3.9/site-packages (from Jinja2>=2.10->numpydoc->oddt) (2.1.1)\n",
      "Requirement already satisfied: sphinxcontrib-applehelp in /opt/conda/lib/python3.9/site-packages (from sphinx>=4.2->numpydoc->oddt) (1.0.4)\n",
      "Requirement already satisfied: Pygments>=2.13 in /opt/conda/lib/python3.9/site-packages (from sphinx>=4.2->numpydoc->oddt) (2.15.1)\n",
      "Requirement already satisfied: packaging>=21.0 in /opt/conda/lib/python3.9/site-packages (from sphinx>=4.2->numpydoc->oddt) (21.3)\n",
      "Requirement already satisfied: sphinxcontrib-jsmath in /opt/conda/lib/python3.9/site-packages (from sphinx>=4.2->numpydoc->oddt) (1.0.1)\n",
      "Requirement already satisfied: requests>=2.25.0 in /opt/conda/lib/python3.9/site-packages (from sphinx>=4.2->numpydoc->oddt) (2.27.1)\n",
      "Requirement already satisfied: babel>=2.9 in /opt/conda/lib/python3.9/site-packages (from sphinx>=4.2->numpydoc->oddt) (2.9.1)\n",
      "Requirement already satisfied: sphinxcontrib-htmlhelp>=2.0.0 in /opt/conda/lib/python3.9/site-packages (from sphinx>=4.2->numpydoc->oddt) (2.0.1)\n",
      "Requirement already satisfied: sphinxcontrib-devhelp in /opt/conda/lib/python3.9/site-packages (from sphinx>=4.2->numpydoc->oddt) (1.0.2)\n",
      "Requirement already satisfied: sphinxcontrib-serializinghtml>=1.1.5 in /opt/conda/lib/python3.9/site-packages (from sphinx>=4.2->numpydoc->oddt) (1.1.5)\n",
      "Requirement already satisfied: importlib-metadata>=4.8 in /opt/conda/lib/python3.9/site-packages (from sphinx>=4.2->numpydoc->oddt) (4.11.3)\n",
      "Requirement already satisfied: sphinxcontrib-qthelp in /opt/conda/lib/python3.9/site-packages (from sphinx>=4.2->numpydoc->oddt) (1.0.3)\n",
      "Requirement already satisfied: docutils<0.21,>=0.18.1 in /opt/conda/lib/python3.9/site-packages (from sphinx>=4.2->numpydoc->oddt) (0.20.1)\n",
      "Requirement already satisfied: snowballstemmer>=2.0 in /opt/conda/lib/python3.9/site-packages (from sphinx>=4.2->numpydoc->oddt) (2.2.0)\n",
      "Requirement already satisfied: alabaster<0.8,>=0.7 in /opt/conda/lib/python3.9/site-packages (from sphinx>=4.2->numpydoc->oddt) (0.7.13)\n",
      "Requirement already satisfied: imagesize>=1.3 in /opt/conda/lib/python3.9/site-packages (from sphinx>=4.2->numpydoc->oddt) (1.4.1)\n",
      "Requirement already satisfied: zipp>=0.5 in /opt/conda/lib/python3.9/site-packages (from importlib-metadata>=4.8->sphinx>=4.2->numpydoc->oddt) (3.8.0)\n",
      "Requirement already satisfied: pyparsing!=3.0.5,>=2.0.2 in /opt/conda/lib/python3.9/site-packages (from packaging>=21.0->sphinx>=4.2->numpydoc->oddt) (3.0.8)\n",
      "Requirement already satisfied: charset-normalizer~=2.0.0 in /opt/conda/lib/python3.9/site-packages (from requests>=2.25.0->sphinx>=4.2->numpydoc->oddt) (2.0.12)\n",
      "Requirement already satisfied: certifi>=2017.4.17 in /opt/conda/lib/python3.9/site-packages (from requests>=2.25.0->sphinx>=4.2->numpydoc->oddt) (2022.9.24)\n",
      "Requirement already satisfied: idna<4,>=2.5 in /opt/conda/lib/python3.9/site-packages (from requests>=2.25.0->sphinx>=4.2->numpydoc->oddt) (3.3)\n",
      "Requirement already satisfied: urllib3<1.27,>=1.21.1 in /opt/conda/lib/python3.9/site-packages (from requests>=2.25.0->sphinx>=4.2->numpydoc->oddt) (1.26.9)\n",
      "Requirement already satisfied: vina in /opt/conda/lib/python3.9/site-packages (1.2.3)\n",
      "Requirement already satisfied: numpy>=1.18 in /opt/conda/lib/python3.9/site-packages (from vina) (1.22.1)\n",
      "/opt/conda/lib/python3.9/site-packages/requests/__init__.py:102: RequestsDependencyWarning: urllib3 (1.26.9) or chardet (5.0.0)/charset_normalizer (2.0.12) doesn't match a supported version!\n",
      "  warnings.warn(\"urllib3 ({}) or chardet ({})/charset_normalizer ({}) doesn't match a supported \"\n",
      "Building jupyterlab assets (production, minimized)\n"
     ]
    }
   ],
   "source": [
    "!pip install oddt\n",
    "!pip install vina\n",
    "!jupyter labextension install jupyterlab_3dmol"
   ]
  },
  {
   "cell_type": "code",
   "execution_count": 5,
   "id": "66212671",
   "metadata": {},
   "outputs": [],
   "source": [
    "#from pymol import cmd\n",
    "import py3Dmol\n",
    "\n",
    "import pandas as pd\n",
    "import glob\n",
    "import sys\n",
    "\n",
    "from vina import Vina\n",
    "\n",
    "from rdkit import Chem\n",
    "from rdkit.Chem import AllChem, Draw\n",
    "\n",
    "import MDAnalysis as mda\n",
    "from MDAnalysis.coordinates import PDB\n",
    "\n",
    "\n",
    "import nglview\n",
    "from scripts import viewer\n",
    "from scripts import autodock\n",
    "\n",
    "import sys, os, shutil\n",
    "\n",
    "import warnings\n",
    "warnings.filterwarnings(\"ignore\")\n",
    "%config Completer.use_jedi = False"
   ]
  },
  {
   "cell_type": "markdown",
   "id": "1122ed03",
   "metadata": {},
   "source": [
    "There will be 4 stages in this notebook:\n",
    "- 1.     protein preperation\n",
    "- 2.     ligand preperation\n",
    "- 3.     docking of a reference compound\n",
    "- 4.     docking of your own compounds"
   ]
  },
  {
   "cell_type": "markdown",
   "id": "130af78d",
   "metadata": {},
   "source": [
    "# Stage 1\n",
    "\n",
    "We have downloaded the inactive state model of the adenosine A2B receptor from gpcrdb:\n",
    "https://gpcrdb.org/structure/homology_models/aa2br_human_inactive\n",
    "\n",
    "We furthermore aligned this model to the adenosine A2A receptor, so we can use the same grid specification that was used for the docking introduction (lab 03 from CBR teaching)."
   ]
  },
  {
   "cell_type": "code",
   "execution_count": 6,
   "id": "4b1ff444",
   "metadata": {},
   "outputs": [
    {
     "name": "stdout",
     "output_type": "stream",
     "text": [
      "dir already there\n"
     ]
    }
   ],
   "source": [
    "# create a working directory\n",
    "try:\n",
    "    os.mkdir('workdir')\n",
    "except:\n",
    "    print('dir already there')"
   ]
  },
  {
   "cell_type": "code",
   "execution_count": 7,
   "id": "630cd428",
   "metadata": {},
   "outputs": [],
   "source": [
    "# Here we prepare the AF model so we can use it for docking\n",
    "\n",
    "command = 'bin/lepro data/A2b_AF_GPCRdb.pdb'\n",
    "os.system(command)\n",
    "shutil.move('pro.pdb','workdir/A2b_AF_GPCRdb-prepped.pdb')\n",
    "os.remove('dock.in')"
   ]
  },
  {
   "cell_type": "code",
   "execution_count": 15,
   "id": "73ae1b0d",
   "metadata": {},
   "outputs": [
    {
     "name": "stderr",
     "output_type": "stream",
     "text": [
      "[13:39:58] Explicit valence for atom # 4 O, 4, is greater than permitted\n"
     ]
    },
    {
     "ename": "ArgumentError",
     "evalue": "Python argument types in\n    Mol.__init__(Mol, NoneType)\ndid not match C++ signature:\n    __init__(_object*, RDKit::ROMol mol, bool quickCopy=False, int confId=-1)\n    __init__(_object*, std::__cxx11::basic_string<char, std::char_traits<char>, std::allocator<char> > pklString, unsigned int propertyFlags)\n    __init__(_object*, std::__cxx11::basic_string<char, std::char_traits<char>, std::allocator<char> > pklString)\n    __init__(_object*)",
     "output_type": "error",
     "traceback": [
      "\u001b[0;31m---------------------------------------------------------------------------\u001b[0m",
      "\u001b[0;31mArgumentError\u001b[0m                             Traceback (most recent call last)",
      "Input \u001b[0;32mIn [15]\u001b[0m, in \u001b[0;36m<cell line: 4>\u001b[0;34m()\u001b[0m\n\u001b[1;32m      1\u001b[0m \u001b[38;5;66;03m# Write it out to pdbqt\u001b[39;00m\n\u001b[1;32m      2\u001b[0m protein \u001b[38;5;241m=\u001b[39m Chem\u001b[38;5;241m.\u001b[39mMolFromPDBFile(\u001b[38;5;124m'\u001b[39m\u001b[38;5;124mworkdir/A2b_AF_GPCRdb-prepped.pdb\u001b[39m\u001b[38;5;124m'\u001b[39m)\n\u001b[0;32m----> 4\u001b[0m mol \u001b[38;5;241m=\u001b[39m \u001b[43mChem\u001b[49m\u001b[38;5;241;43m.\u001b[39;49m\u001b[43mMol\u001b[49m\u001b[43m(\u001b[49m\u001b[43mprotein\u001b[49m\u001b[43m)\u001b[49m\n",
      "\u001b[0;31mArgumentError\u001b[0m: Python argument types in\n    Mol.__init__(Mol, NoneType)\ndid not match C++ signature:\n    __init__(_object*, RDKit::ROMol mol, bool quickCopy=False, int confId=-1)\n    __init__(_object*, std::__cxx11::basic_string<char, std::char_traits<char>, std::allocator<char> > pklString, unsigned int propertyFlags)\n    __init__(_object*, std::__cxx11::basic_string<char, std::char_traits<char>, std::allocator<char> > pklString)\n    __init__(_object*)"
     ]
    }
   ],
   "source": [
    "# Write it out to pdbqt\n",
    "protein = Chem.MolFromPDBFile('workdir/A2b_AF_GPCRdb-prepped.pdb')\n",
    "\n",
    "mol = Chem.Mol(protein)\n",
    "\n",
    "#a = autodock.MolToPDBQTBlock(protein,flexible=False)\n",
    "#with open('workdir/protein.pdbqt','w') as outfile:\n",
    "#    for line in a:\n",
    "#        outfile.write(line)"
   ]
  },
  {
   "cell_type": "code",
   "execution_count": 17,
   "id": "2c21b07f",
   "metadata": {},
   "outputs": [],
   "source": [
    "# Next we will \n",
    "?scripts.autodock"
   ]
  },
  {
   "cell_type": "markdown",
   "id": "7b013ade",
   "metadata": {},
   "source": [
    "# Stage 2\n",
    "\n",
    "Generate 3D files of the molecules"
   ]
  },
  {
   "cell_type": "code",
   "execution_count": null,
   "id": "4e739769",
   "metadata": {},
   "outputs": [],
   "source": [
    "ligands = [\n",
    "    \n",
    "    'C1=COC(=C1)C2=NN3C(=NC(=NC3=N2)NCCC4=CC=C(C=C4)O)N', #ZMA241385\n",
    "    'CN1C=NC2=C1C(=O)N(C(=O)N2C)C'                        #Cafeine\n",
    "]"
   ]
  },
  {
   "cell_type": "code",
   "execution_count": null,
   "id": "ee5260ad",
   "metadata": {},
   "outputs": [],
   "source": [
    "i = -1\n",
    "\n",
    "IDs = []\n",
    "for i in range(0,len(ligands)):\n",
    "    base = 'ligand_{:02d}'.format(i)\n",
    "    IDs.append(base)\n",
    "    \n",
    "df = pd.DataFrame({'ID':IDs, 'SMILES':test_smiles})\n",
    "\n",
    "df['rdkit_mol'] = [Chem.MolFromSmiles(s) for s in df['SMILES']]\n",
    "\n",
    "# Generate 2D images of the molecules\n",
    "img=Draw.MolsToGridImage(df['rdkit_mol'].tolist(),\n",
    "                            molsPerRow=4,\n",
    "                            subImgSize=(200,200),\n",
    "                            legends=df['ID'].tolist())\n",
    "\n",
    "for i in range(len(df)):\n",
    "    row = df.iloc[i]\n",
    "    mol = row['rdkit_mol']\n",
    "    name = row['ID'] + '.mol'\n",
    "    Chem.MolToMolFile(mol,name)\n",
    "\n",
    "img\n"
   ]
  }
 ],
 "metadata": {
  "kernelspec": {
   "display_name": "Python 3 (ipykernel)",
   "language": "python",
   "name": "python3"
  },
  "language_info": {
   "codemirror_mode": {
    "name": "ipython",
    "version": 3
   },
   "file_extension": ".py",
   "mimetype": "text/x-python",
   "name": "python",
   "nbconvert_exporter": "python",
   "pygments_lexer": "ipython3",
   "version": "3.9.12"
  }
 },
 "nbformat": 4,
 "nbformat_minor": 5
}
