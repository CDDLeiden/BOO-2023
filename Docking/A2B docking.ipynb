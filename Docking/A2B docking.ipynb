{
 "cells": [
  {
   "cell_type": "markdown",
   "id": "e13d2532",
   "metadata": {},
   "source": [
    "This jupyter notebook contains some example scripts to setup docking work for the adenosine A2B receptor"
   ]
  },
  {
   "cell_type": "markdown",
   "id": "2ce3f3cc",
   "metadata": {},
   "source": [
    "# Stage 1\n",
    "\n",
    "We have downloaded the inactive state model of the adenosine A2B receptor from gpcrdb:\n",
    "https://gpcrdb.org/structure/homology_models/aa2br_human_inactive\n",
    "\n",
    "We furthermore aligned this model to the adenosine A2A receptor, so we can use the same grid specification that was used for the docking introduction (lab 03 from CBR teaching).\n",
    "\n",
    "Let's have a look at the model"
   ]
  },
  {
   "cell_type": "code",
   "execution_count": 1,
   "id": "66e98676",
   "metadata": {},
   "outputs": [
    {
     "name": "stdout",
     "output_type": "stream",
     "text": [
      "Collecting oddt\n",
      "  Using cached oddt-0.7-py2.py3-none-any.whl\n",
      "Requirement already satisfied: scipy>=0.17 in /opt/conda/lib/python3.9/site-packages (from oddt) (1.7.3)\n",
      "Requirement already satisfied: six in /opt/conda/lib/python3.9/site-packages (from oddt) (1.16.0)\n",
      "Requirement already satisfied: scikit-learn>=0.18 in /opt/conda/lib/python3.9/site-packages (from oddt) (1.1.1)\n",
      "Requirement already satisfied: numpy>=1.11 in /opt/conda/lib/python3.9/site-packages (from oddt) (1.22.1)\n",
      "Requirement already satisfied: joblib>=0.9.4 in /opt/conda/lib/python3.9/site-packages (from oddt) (1.2.0)\n",
      "Collecting numpydoc\n",
      "  Using cached numpydoc-1.5.0-py3-none-any.whl (52 kB)\n",
      "Requirement already satisfied: pandas>=0.19.2 in /opt/conda/lib/python3.9/site-packages (from oddt) (1.4.2)\n",
      "Requirement already satisfied: python-dateutil>=2.8.1 in /opt/conda/lib/python3.9/site-packages (from pandas>=0.19.2->oddt) (2.8.2)\n",
      "Requirement already satisfied: pytz>=2020.1 in /opt/conda/lib/python3.9/site-packages (from pandas>=0.19.2->oddt) (2022.1)\n",
      "Requirement already satisfied: threadpoolctl>=2.0.0 in /opt/conda/lib/python3.9/site-packages (from scikit-learn>=0.18->oddt) (3.1.0)\n",
      "Requirement already satisfied: Jinja2>=2.10 in /opt/conda/lib/python3.9/site-packages (from numpydoc->oddt) (3.1.1)\n",
      "Collecting sphinx>=4.2\n",
      "  Using cached sphinx-7.0.1-py3-none-any.whl (3.0 MB)\n",
      "Requirement already satisfied: MarkupSafe>=2.0 in /opt/conda/lib/python3.9/site-packages (from Jinja2>=2.10->numpydoc->oddt) (2.1.1)\n",
      "Collecting sphinxcontrib-qthelp\n",
      "  Using cached sphinxcontrib_qthelp-1.0.3-py2.py3-none-any.whl (90 kB)\n",
      "Collecting sphinxcontrib-applehelp\n",
      "  Using cached sphinxcontrib_applehelp-1.0.4-py3-none-any.whl (120 kB)\n",
      "Collecting sphinxcontrib-htmlhelp>=2.0.0\n",
      "  Using cached sphinxcontrib_htmlhelp-2.0.1-py3-none-any.whl (99 kB)\n",
      "Requirement already satisfied: babel>=2.9 in /opt/conda/lib/python3.9/site-packages (from sphinx>=4.2->numpydoc->oddt) (2.9.1)\n",
      "Collecting Pygments>=2.13\n",
      "  Using cached Pygments-2.15.1-py3-none-any.whl (1.1 MB)\n",
      "Collecting sphinxcontrib-devhelp\n",
      "  Using cached sphinxcontrib_devhelp-1.0.2-py2.py3-none-any.whl (84 kB)\n",
      "Collecting imagesize>=1.3\n",
      "  Using cached imagesize-1.4.1-py2.py3-none-any.whl (8.8 kB)\n",
      "Requirement already satisfied: packaging>=21.0 in /opt/conda/lib/python3.9/site-packages (from sphinx>=4.2->numpydoc->oddt) (21.3)\n",
      "Requirement already satisfied: requests>=2.25.0 in /opt/conda/lib/python3.9/site-packages (from sphinx>=4.2->numpydoc->oddt) (2.27.1)\n",
      "Collecting sphinxcontrib-jsmath\n",
      "  Using cached sphinxcontrib_jsmath-1.0.1-py2.py3-none-any.whl (5.1 kB)\n",
      "Collecting docutils<0.21,>=0.18.1\n",
      "  Downloading docutils-0.20.1-py3-none-any.whl (572 kB)\n",
      "\u001b[2K     \u001b[90m━━━━━━━━━━━━━━━━━━━━━━━━━━━━━━━━━━━━━━\u001b[0m \u001b[32m572.7/572.7 KB\u001b[0m \u001b[31m10.9 MB/s\u001b[0m eta \u001b[36m0:00:00\u001b[0ma \u001b[36m0:00:01\u001b[0m\n",
      "\u001b[?25hCollecting alabaster<0.8,>=0.7\n",
      "  Using cached alabaster-0.7.13-py3-none-any.whl (13 kB)\n",
      "Requirement already satisfied: importlib-metadata>=4.8 in /opt/conda/lib/python3.9/site-packages (from sphinx>=4.2->numpydoc->oddt) (4.11.3)\n",
      "Collecting sphinxcontrib-serializinghtml>=1.1.5\n",
      "  Using cached sphinxcontrib_serializinghtml-1.1.5-py2.py3-none-any.whl (94 kB)\n",
      "Collecting snowballstemmer>=2.0\n",
      "  Using cached snowballstemmer-2.2.0-py2.py3-none-any.whl (93 kB)\n",
      "Requirement already satisfied: zipp>=0.5 in /opt/conda/lib/python3.9/site-packages (from importlib-metadata>=4.8->sphinx>=4.2->numpydoc->oddt) (3.8.0)\n",
      "Requirement already satisfied: pyparsing!=3.0.5,>=2.0.2 in /opt/conda/lib/python3.9/site-packages (from packaging>=21.0->sphinx>=4.2->numpydoc->oddt) (3.0.8)\n",
      "Requirement already satisfied: urllib3<1.27,>=1.21.1 in /opt/conda/lib/python3.9/site-packages (from requests>=2.25.0->sphinx>=4.2->numpydoc->oddt) (1.26.9)\n",
      "Requirement already satisfied: certifi>=2017.4.17 in /opt/conda/lib/python3.9/site-packages (from requests>=2.25.0->sphinx>=4.2->numpydoc->oddt) (2022.9.24)\n",
      "Requirement already satisfied: charset-normalizer~=2.0.0 in /opt/conda/lib/python3.9/site-packages (from requests>=2.25.0->sphinx>=4.2->numpydoc->oddt) (2.0.12)\n",
      "Requirement already satisfied: idna<4,>=2.5 in /opt/conda/lib/python3.9/site-packages (from requests>=2.25.0->sphinx>=4.2->numpydoc->oddt) (3.3)\n",
      "Installing collected packages: snowballstemmer, sphinxcontrib-serializinghtml, sphinxcontrib-qthelp, sphinxcontrib-jsmath, sphinxcontrib-htmlhelp, sphinxcontrib-devhelp, sphinxcontrib-applehelp, Pygments, imagesize, docutils, alabaster, sphinx, numpydoc, oddt\n",
      "  Attempting uninstall: Pygments\n",
      "    Found existing installation: Pygments 2.12.0\n",
      "    Uninstalling Pygments-2.12.0:\n",
      "      Successfully uninstalled Pygments-2.12.0\n",
      "Successfully installed Pygments-2.15.1 alabaster-0.7.13 docutils-0.20.1 imagesize-1.4.1 numpydoc-1.5.0 oddt-0.7 snowballstemmer-2.2.0 sphinx-7.0.1 sphinxcontrib-applehelp-1.0.4 sphinxcontrib-devhelp-1.0.2 sphinxcontrib-htmlhelp-2.0.1 sphinxcontrib-jsmath-1.0.1 sphinxcontrib-qthelp-1.0.3 sphinxcontrib-serializinghtml-1.1.5\n",
      "Collecting vina\n",
      "  Using cached vina-1.2.3-cp39-cp39-manylinux_2_17_x86_64.manylinux2014_x86_64.whl (7.1 MB)\n",
      "Requirement already satisfied: numpy>=1.18 in /opt/conda/lib/python3.9/site-packages (from vina) (1.22.1)\n",
      "Installing collected packages: vina\n",
      "Successfully installed vina-1.2.3\n"
     ]
    }
   ],
   "source": [
    "!pip install oddt\n",
    "!pip install vina"
   ]
  },
  {
   "cell_type": "code",
   "execution_count": 3,
   "id": "e3a6a978",
   "metadata": {},
   "outputs": [],
   "source": [
    "#from pymol import cmd\n",
    "import py3Dmol\n",
    "\n",
    "import pandas as pd\n",
    "import glob\n",
    "import sys\n",
    "\n",
    "from vina import Vina\n",
    "\n",
    "from rdkit import Chem\n",
    "from rdkit.Chem import AllChem, Draw\n",
    "\n",
    "import MDAnalysis as mda\n",
    "from MDAnalysis.coordinates import PDB\n",
    "\n",
    "\n",
    "import nglview\n",
    "from scripts import viewer\n",
    "\n",
    "import sys, os, shutil\n",
    "\n",
    "import warnings\n",
    "warnings.filterwarnings(\"ignore\")\n",
    "%config Completer.use_jedi = False"
   ]
  },
  {
   "cell_type": "code",
   "execution_count": null,
   "id": "af2f7147",
   "metadata": {},
   "outputs": [],
   "source": []
  }
 ],
 "metadata": {
  "kernelspec": {
   "display_name": "Python 3 (ipykernel)",
   "language": "python",
   "name": "python3"
  },
  "language_info": {
   "codemirror_mode": {
    "name": "ipython",
    "version": 3
   },
   "file_extension": ".py",
   "mimetype": "text/x-python",
   "name": "python",
   "nbconvert_exporter": "python",
   "pygments_lexer": "ipython3",
   "version": "3.9.12"
  }
 },
 "nbformat": 4,
 "nbformat_minor": 5
}
